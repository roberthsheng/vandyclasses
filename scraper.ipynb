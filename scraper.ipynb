{
 "cells": [
  {
   "cell_type": "code",
   "execution_count": 39,
   "metadata": {},
   "outputs": [],
   "source": [
    "# co = ['CORE', 'AADS', 'ASL', 'AMER', 'ANTH', 'ARA', 'ARAM', 'ARTS', 'ASIA', 'ASAM', \n",
    "#            'ASTR', 'BRQ', 'BCB', 'BSCI', 'BME', 'BUS', 'BUSA', 'CAR', 'CTLN', 'CHBE', 'CHEM',\n",
    "#            'CHIN', 'CMA', 'CE', 'CMST', 'CSET', 'CS', 'MCON', 'CAL', 'DS', 'DF', 'DHUM', 'DIV',\n",
    "#            'EES', 'ECON', 'EDUC', 'ECE', 'ENGM', 'ES', 'ENGL', 'ENED', 'MUSE', 'ENVE', 'ENVS',\n",
    "#            'EUS', 'FLED', 'FREN', 'GSS', 'GER', 'GRK', 'HODC', 'HODE', 'HODH', 'HODI', 'HODL',\n",
    "#            'CREO', 'HEBR', 'HNUR', 'HIST', 'HART', 'HONS', 'HOD', 'HUM', 'HMED', 'IMM', 'INDS',\n",
    "#            'ITA', 'JAPN', 'JS', 'KICH', 'MUKH', 'KOR', 'LAT', 'LAS', 'LATS', 'MALA', 'MSE',\n",
    "#            'MTED', 'MATH', 'ME', 'MHS', 'MS-PC', 'MENT', 'COMP', 'MPED', 'MREP', 'MUED', 'MUTH',\n",
    "#            'MWEL', 'MUSC', 'MUSL', 'NANO', 'NS', 'NS-PC', 'NSC', 'MUSO', 'PBDY', 'PSCH', 'BNJO',\n",
    "#            'BASS', 'BSSN', 'CLLO', 'CLAR', 'DRUM', 'EUPH', 'FDDL', 'FLUT', 'GTR', 'HARP', 'HRPS',\n",
    "#            'HORN', 'JAZZ', 'MNDL', 'OBOE', 'ORGN', 'PERC', 'PIAN', 'SAX', 'STPN', 'TROM', 'TRPT',\n",
    "#            'TUBA', 'VLA', 'VLN', 'VOIC', 'PERS', 'PHIL', 'PHYS', 'PSCI', 'PORT', 'PSY', 'PSY-PC',\n",
    "#            'PPS', 'RLST', 'RPW', 'RUSS', 'SNSK', 'SCED', 'SC', 'SSED', 'SOC', 'SPAN', 'SPED',\n",
    "#            'SPEDH', 'SPEDS', 'SPEDV', 'SWAH', 'THTR', 'TBTN', 'TURK', 'UNIV']"
   ]
  },
  {
   "cell_type": "code",
   "execution_count": 63,
   "metadata": {},
   "outputs": [
    {
     "name": "stdout",
     "output_type": "stream",
     "text": [
      "CORE1010 - Being Human: This course invites you to launch your undergraduate career with some of the biggest questions humans have asked: Who are we, and why are we here? To begin, we will ask: why are we here at Vanderbilt, and what is the purpose of a college education? We will then examine the varied ways that people in different times, places, and circumstances have contemplated the meaning of humanity-raising questions about social ﬂourishing and responsibility; about solidarity, hierarchy, and difference; and about the very boundaries of \"the human.\" Offered on a graded basis only. [3] (HCA)\n",
      "CORE1020 - Science, Technology, Values: Living and flourishing in a scientific, technological civilization, ranging from ancient considerations of science to modern global era. Survey of perspectives from natural sciences, social sciences, and humanities. [3] (P)\n",
      "CORE2000 - Exploratory Core Course: Courses in this series explore big questions and complex problems from a variety of disciplinary perspectives. As part of the new A&S College Core, Exploratory Core courses are designed for the second year, are broad in topic, and help students discover paths to new interests and more specialized study. [3]\n"
     ]
    },
    {
     "ename": "KeyboardInterrupt",
     "evalue": "",
     "output_type": "error",
     "traceback": [
      "\u001b[0;31m---------------------------------------------------------------------------\u001b[0m",
      "\u001b[0;31mKeyboardInterrupt\u001b[0m                         Traceback (most recent call last)",
      "Cell \u001b[0;32mIn[63], line 32\u001b[0m\n\u001b[1;32m     30\u001b[0m driver\u001b[38;5;241m.\u001b[39mexecute_script(\u001b[38;5;124m\"\u001b[39m\u001b[38;5;124mwindow.open(arguments[0]);\u001b[39m\u001b[38;5;124m\"\u001b[39m, course_link)\n\u001b[1;32m     31\u001b[0m driver\u001b[38;5;241m.\u001b[39mswitch_to\u001b[38;5;241m.\u001b[39mwindow(driver\u001b[38;5;241m.\u001b[39mwindow_handles[\u001b[38;5;241m1\u001b[39m])\n\u001b[0;32m---> 32\u001b[0m \u001b[43mtime\u001b[49m\u001b[38;5;241;43m.\u001b[39;49m\u001b[43msleep\u001b[49m\u001b[43m(\u001b[49m\u001b[38;5;241;43m1\u001b[39;49m\u001b[43m)\u001b[49m  \u001b[38;5;66;03m# Wait for the page to load\u001b[39;00m\n\u001b[1;32m     34\u001b[0m \u001b[38;5;28;01mtry\u001b[39;00m:\n\u001b[1;32m     35\u001b[0m     course_description \u001b[38;5;241m=\u001b[39m WebDriverWait(driver, \u001b[38;5;241m10\u001b[39m)\u001b[38;5;241m.\u001b[39muntil(\n\u001b[1;32m     36\u001b[0m         EC\u001b[38;5;241m.\u001b[39mpresence_of_element_located((By\u001b[38;5;241m.\u001b[39mCSS_SELECTOR, \u001b[38;5;124m'\u001b[39m\u001b[38;5;124m.course-view__pre___2VF54 > div\u001b[39m\u001b[38;5;124m'\u001b[39m))\n\u001b[1;32m     37\u001b[0m     )\u001b[38;5;241m.\u001b[39mtext\n",
      "\u001b[0;31mKeyboardInterrupt\u001b[0m: "
     ]
    }
   ],
   "source": [
    "from selenium import webdriver\n",
    "from selenium.webdriver.common.by import By\n",
    "from selenium.webdriver.support.ui import WebDriverWait\n",
    "from selenium.webdriver.support import expected_conditions as EC\n",
    "from selenium.webdriver.common.keys import Keys\n",
    "import time\n",
    "\n",
    "url = \"https://www.vanderbilt.edu/catalogs/kuali/undergraduate-23-24.php#/courses\"\n",
    "driver = webdriver.Chrome()\n",
    "driver.get(url)\n",
    "course_to_link = {}\n",
    "\n",
    "# Getting dropdown buttons\n",
    "buttons = WebDriverWait(driver, 10).until(\n",
    "    EC.presence_of_all_elements_located((By.CSS_SELECTOR, 'button.md-btn.md-btn--icon.md-pointer--hover.md-inline-block.style__collapseButton___12yNL'))\n",
    ")\n",
    "\n",
    "for button in buttons:\n",
    "    button.click()\n",
    "    time.sleep(0.3)\n",
    "\n",
    "    course_links = WebDriverWait(driver, 10).until(\n",
    "        EC.presence_of_all_elements_located((By.CSS_SELECTOR, 'a[href^=\"#/courses/\"]'))\n",
    "    )\n",
    "\n",
    "    for link in course_links:\n",
    "        course_name = link.text.strip()\n",
    "        course_link = link.get_attribute('href')\n",
    "        # Open link in new tab\n",
    "        driver.execute_script(\"window.open(arguments[0]);\", course_link)\n",
    "        driver.switch_to.window(driver.window_handles[1])\n",
    "        time.sleep(1)\n",
    "\n",
    "        try:\n",
    "            course_description = WebDriverWait(driver, 10).until(\n",
    "                EC.presence_of_element_located((By.CSS_SELECTOR, '.course-view__pre___2VF54 > div'))\n",
    "            ).text\n",
    "        except Exception as e:\n",
    "            print(f\"Failed to load course description for {course_name}: {str(e)}\")\n",
    "            course_description = \"Description not available\"\n",
    "\n",
    "        # Going back to main tab\n",
    "        driver.close()\n",
    "        driver.switch_to.window(driver.window_handles[0])\n",
    "\n",
    "        print(f\"{course_name}: {course_description}\")\n",
    "        course_to_link[course_name] = course_description\n",
    "\n",
    "driver.quit()\n"
   ]
  },
  {
   "cell_type": "markdown",
   "metadata": {},
   "source": []
  }
 ],
 "metadata": {
  "kernelspec": {
   "display_name": "KD",
   "language": "python",
   "name": "python3"
  },
  "language_info": {
   "codemirror_mode": {
    "name": "ipython",
    "version": 3
   },
   "file_extension": ".py",
   "mimetype": "text/x-python",
   "name": "python",
   "nbconvert_exporter": "python",
   "pygments_lexer": "ipython3",
   "version": "3.11.3"
  }
 },
 "nbformat": 4,
 "nbformat_minor": 2
}
